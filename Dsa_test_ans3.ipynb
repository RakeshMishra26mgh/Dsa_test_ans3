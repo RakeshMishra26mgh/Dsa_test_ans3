{
  "nbformat": 4,
  "nbformat_minor": 0,
  "metadata": {
    "colab": {
      "provenance": [],
      "authorship_tag": "ABX9TyPC/9tA9/YgRqXzPd2jAYp3",
      "include_colab_link": true
    },
    "kernelspec": {
      "name": "python3",
      "display_name": "Python 3"
    },
    "language_info": {
      "name": "python"
    }
  },
  "cells": [
    {
      "cell_type": "markdown",
      "metadata": {
        "id": "view-in-github",
        "colab_type": "text"
      },
      "source": [
        "<a href=\"https://colab.research.google.com/github/RakeshMishra26mgh/Dsa_test_ans3/blob/main/Dsa_test_ans3.ipynb\" target=\"_parent\"><img src=\"https://colab.research.google.com/assets/colab-badge.svg\" alt=\"Open In Colab\"/></a>"
      ]
    },
    {
      "cell_type": "code",
      "source": [
        "def sqrt(x):\n",
        "  if x == 0 or x == 1:\n",
        "    return x\n",
        "  low = 1\n",
        "  high = x\n",
        "  while low <= high:\n",
        "    mid = (low + high) // 2\n",
        "\n",
        "    if mid * mid == x:\n",
        "      return mid\n",
        "\n",
        "    elif mid * mid < x:\n",
        "      low = mid + 1\n",
        "      ans = mid\n",
        "\n",
        "    else:\n",
        "      high = mid - 1\n",
        "  return ans\n",
        "\n",
        "try:\n",
        "  x = int(input(\"Enter a non-negative integer: \"))\n",
        "  if x < 0:\n",
        "    raise ValueError(\"Invalid input\")\n",
        "except ValueError as e:\n",
        "  print(e)\n",
        "else:\n",
        "  result = sqrt(x)\n",
        "  print(f\"The square root of {x} is {result}\")\n"
      ],
      "metadata": {
        "id": "hJJzBnw5ep0M"
      },
      "execution_count": null,
      "outputs": []
    }
  ]
}